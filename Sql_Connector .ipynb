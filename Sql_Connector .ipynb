{
 "cells": [
  {
   "cell_type": "code",
   "execution_count": 1,
   "id": "b3689547",
   "metadata": {},
   "outputs": [
    {
     "name": "stderr",
     "output_type": "stream",
     "text": [
      "/var/folders/w5/y4zxnb0130zgls3vnryxcytr0000gn/T/ipykernel_2293/1606722510.py:11: SADeprecationWarning: Calling URL() directly is deprecated and will be disabled in a future release.  The public constructor for URL is now the URL.create() method.\n",
      "  connection_url = engine.url.URL(\n"
     ]
    }
   ],
   "source": [
    "from sqlalchemy import create_engine, engine\n",
    "\n",
    "# Replace 'root', 'Chennai@1234', 'localhost', '3306', and 'moviesdb' with your actual values\n",
    "username = 'root'\n",
    "password = 'Chennai@1234'\n",
    "host = 'localhost'\n",
    "port = '3306'\n",
    "database = 'moviesdb'\n",
    "\n",
    "# Create SQLAlchemy engine with typed URL\n",
    "connection_url = engine.url.URL(\n",
    "    drivername='mysql+pymysql',\n",
    "    username=username,\n",
    "    password=password,\n",
    "    host=host,\n",
    "    port=port,\n",
    "    database=database,\n",
    ")\n",
    "\n",
    "engine = create_engine(connection_url)\n"
   ]
  },
  {
   "cell_type": "code",
   "execution_count": 2,
   "id": "438fcdca",
   "metadata": {},
   "outputs": [],
   "source": [
    "selectquery=\"select * from actors\""
   ]
  },
  {
   "cell_type": "code",
   "execution_count": 4,
   "id": "033139b0",
   "metadata": {},
   "outputs": [],
   "source": [
    "import pandas as pd"
   ]
  },
  {
   "cell_type": "code",
   "execution_count": 5,
   "id": "3ca5feec",
   "metadata": {},
   "outputs": [],
   "source": [
    "data = pd.read_sql(selectquery, engine)\n"
   ]
  },
  {
   "cell_type": "code",
   "execution_count": 6,
   "id": "c6932473",
   "metadata": {},
   "outputs": [
    {
     "data": {
      "text/html": [
       "<div>\n",
       "<style scoped>\n",
       "    .dataframe tbody tr th:only-of-type {\n",
       "        vertical-align: middle;\n",
       "    }\n",
       "\n",
       "    .dataframe tbody tr th {\n",
       "        vertical-align: top;\n",
       "    }\n",
       "\n",
       "    .dataframe thead th {\n",
       "        text-align: right;\n",
       "    }\n",
       "</style>\n",
       "<table border=\"1\" class=\"dataframe\">\n",
       "  <thead>\n",
       "    <tr style=\"text-align: right;\">\n",
       "      <th></th>\n",
       "      <th>actor_id</th>\n",
       "      <th>name</th>\n",
       "      <th>birth_year</th>\n",
       "    </tr>\n",
       "  </thead>\n",
       "  <tbody>\n",
       "    <tr>\n",
       "      <th>0</th>\n",
       "      <td>50</td>\n",
       "      <td>Yash</td>\n",
       "      <td>1986</td>\n",
       "    </tr>\n",
       "    <tr>\n",
       "      <th>1</th>\n",
       "      <td>51</td>\n",
       "      <td>Sanjay Dutt</td>\n",
       "      <td>1959</td>\n",
       "    </tr>\n",
       "    <tr>\n",
       "      <th>2</th>\n",
       "      <td>52</td>\n",
       "      <td>Benedict Cumberbatch</td>\n",
       "      <td>1976</td>\n",
       "    </tr>\n",
       "    <tr>\n",
       "      <th>3</th>\n",
       "      <td>53</td>\n",
       "      <td>Elizabeth Olsen</td>\n",
       "      <td>1989</td>\n",
       "    </tr>\n",
       "    <tr>\n",
       "      <th>4</th>\n",
       "      <td>54</td>\n",
       "      <td>Chris Hemsworth</td>\n",
       "      <td>1983</td>\n",
       "    </tr>\n",
       "    <tr>\n",
       "      <th>...</th>\n",
       "      <td>...</td>\n",
       "      <td>...</td>\n",
       "      <td>...</td>\n",
       "    </tr>\n",
       "    <tr>\n",
       "      <th>62</th>\n",
       "      <td>166</td>\n",
       "      <td>Tommy Lee Jones</td>\n",
       "      <td>1946</td>\n",
       "    </tr>\n",
       "    <tr>\n",
       "      <th>63</th>\n",
       "      <td>167</td>\n",
       "      <td>Sebastian Stan</td>\n",
       "      <td>1982</td>\n",
       "    </tr>\n",
       "    <tr>\n",
       "      <th>64</th>\n",
       "      <td>168</td>\n",
       "      <td>Anil Kapoor</td>\n",
       "      <td>1956</td>\n",
       "    </tr>\n",
       "    <tr>\n",
       "      <th>65</th>\n",
       "      <td>169</td>\n",
       "      <td>Sidharth Malhotra</td>\n",
       "      <td>1985</td>\n",
       "    </tr>\n",
       "    <tr>\n",
       "      <th>66</th>\n",
       "      <td>170</td>\n",
       "      <td>Kiara Advani</td>\n",
       "      <td>1991</td>\n",
       "    </tr>\n",
       "  </tbody>\n",
       "</table>\n",
       "<p>67 rows × 3 columns</p>\n",
       "</div>"
      ],
      "text/plain": [
       "    actor_id                  name  birth_year\n",
       "0         50                  Yash        1986\n",
       "1         51           Sanjay Dutt        1959\n",
       "2         52  Benedict Cumberbatch        1976\n",
       "3         53       Elizabeth Olsen        1989\n",
       "4         54       Chris Hemsworth        1983\n",
       "..       ...                   ...         ...\n",
       "62       166       Tommy Lee Jones        1946\n",
       "63       167        Sebastian Stan        1982\n",
       "64       168           Anil Kapoor        1956\n",
       "65       169     Sidharth Malhotra        1985\n",
       "66       170          Kiara Advani        1991\n",
       "\n",
       "[67 rows x 3 columns]"
      ]
     },
     "execution_count": 6,
     "metadata": {},
     "output_type": "execute_result"
    }
   ],
   "source": [
    "data"
   ]
  },
  {
   "cell_type": "code",
   "execution_count": null,
   "id": "09dc8de3",
   "metadata": {},
   "outputs": [],
   "source": []
  }
 ],
 "metadata": {
  "kernelspec": {
   "display_name": "Python 3 (ipykernel)",
   "language": "python",
   "name": "python3"
  },
  "language_info": {
   "codemirror_mode": {
    "name": "ipython",
    "version": 3
   },
   "file_extension": ".py",
   "mimetype": "text/x-python",
   "name": "python",
   "nbconvert_exporter": "python",
   "pygments_lexer": "ipython3",
   "version": "3.11.5"
  }
 },
 "nbformat": 4,
 "nbformat_minor": 5
}
